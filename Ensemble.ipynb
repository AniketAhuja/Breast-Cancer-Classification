{
 "cells": [
  {
   "cell_type": "code",
   "execution_count": 1,
   "id": "910d8b99",
   "metadata": {},
   "outputs": [],
   "source": [
    "import pandas as pd\n",
    "import numpy as np\n",
    "import pandas as pd\n",
    "import numpy as np\n",
    "import matplotlib.pyplot as plt\n",
    "from sklearn.model_selection import train_test_split, GridSearchCV\n",
    "from sklearn.model_selection import cross_val_score,cross_val_predict\n",
    "from sklearn.metrics import accuracy_score, recall_score, confusion_matrix\n",
    "from sklearn.ensemble import AdaBoostClassifier\n",
    "from sklearn.tree import DecisionTreeClassifier\n",
    "\n",
    "\n",
    "import warnings\n",
    "warnings.filterwarnings(\"ignore\")"
   ]
  },
  {
   "cell_type": "code",
   "execution_count": null,
   "id": "9fa85a92",
   "metadata": {},
   "outputs": [],
   "source": [
    "# AdaBoost"
   ]
  },
  {
   "cell_type": "code",
   "execution_count": 13,
   "id": "b61d1338",
   "metadata": {},
   "outputs": [],
   "source": [
    "data = pd.read_excel(\"df.xlsx\")\n",
    "binary = {'M':1,'B':0}\n",
    "data['diagnosis'] = data['diagnosis'].map(binary)"
   ]
  },
  {
   "cell_type": "code",
   "execution_count": 14,
   "id": "f98e6f44",
   "metadata": {},
   "outputs": [],
   "source": [
    "y = data['diagnosis']\n",
    "X = data.drop([\"diagnosis\", \"id\"], axis = 1)\n",
    "\n",
    "X_scaled = (X - np.min(X)) / (np.max(X) - np.min(X))\n",
    "X = X_scaled\n",
    "\n",
    "X_train, X_test, y_train, y_test = train_test_split(X, y, random_state=2, test_size=0.2, stratify = y)"
   ]
  },
  {
   "cell_type": "code",
   "execution_count": 16,
   "id": "ffc9ac6e",
   "metadata": {},
   "outputs": [
    {
     "name": "stdout",
     "output_type": "stream",
     "text": [
      "0.9285714285714286\n",
      "Adaptive Boosting Tuned Confusion Matrix:\n",
      " [[70  2]\n",
      " [ 3 39]]\n"
     ]
    }
   ],
   "source": [
    "model_ada = AdaBoostClassifier(DecisionTreeClassifier(random_state = 10, max_depth = 3, max_leaf_nodes = 4), n_estimators = 500, learning_rate = 1)\n",
    "\n",
    "model_ada.fit(X_train, y_train)\n",
    "\n",
    "y_pred_ab = model_ada.predict(X_test)\n",
    "\n",
    "print(recall_score(y_test, y_pred_ab))\n",
    "print('Adaptive Boosting Tuned Confusion Matrix:\\n',confusion_matrix(y_test, y_pred_ab))"
   ]
  },
  {
   "cell_type": "code",
   "execution_count": 23,
   "id": "be563f72",
   "metadata": {},
   "outputs": [],
   "source": [
    "# Decision Tree\n",
    "import pandas as pd\n",
    "import numpy as np\n",
    "import seaborn as sns\n",
    "import matplotlib.pyplot as plt\n",
    "from sklearn.metrics import mean_squared_error\n",
    "from sklearn.model_selection import cross_val_score,train_test_split, cross_val_predict\n",
    "from sklearn.metrics import roc_curve, precision_recall_curve, auc, make_scorer, recall_score, accuracy_score, precision_score, confusion_matrix\n",
    "from sklearn.model_selection import StratifiedKFold, KFold\n",
    "from sklearn.tree import DecisionTreeClassifier\n",
    "from sklearn.model_selection import GridSearchCV\n",
    "\n",
    "#Libraries for visualizing trees\n",
    "from sklearn.tree import export_graphviz \n",
    "from six import StringIO\n",
    "from IPython.display import Image  \n",
    "from sklearn import tree\n",
    "import pydotplus\n",
    "\n",
    "import time as time"
   ]
  },
  {
   "cell_type": "code",
   "execution_count": 17,
   "id": "aa162f9d",
   "metadata": {},
   "outputs": [],
   "source": [
    "data = pd.read_excel(\"df.xlsx\")\n",
    "data = data.drop('id', axis =1)\n",
    "data.diagnosis = data.diagnosis.eq('M').mul(1)\n",
    "data\n",
    "y = data.diagnosis\n",
    "X = data.drop(\"diagnosis\", axis = 1)\n",
    "X_train, X_test, y_train, y_test = train_test_split(X, y, test_size = 0.2, random_state = 45)"
   ]
  },
  {
   "cell_type": "code",
   "execution_count": 18,
   "id": "8350bced",
   "metadata": {},
   "outputs": [],
   "source": [
    "decisiontreemodel = DecisionTreeClassifier(random_state=1, max_depth = 6, max_leaf_nodes=3, max_features=2).fit(X_train, y_train)\n"
   ]
  },
  {
   "cell_type": "code",
   "execution_count": null,
   "id": "5117879c",
   "metadata": {},
   "outputs": [],
   "source": [
    "# Random Forest"
   ]
  }
 ],
 "metadata": {
  "kernelspec": {
   "display_name": "Python 3 (ipykernel)",
   "language": "python",
   "name": "python3"
  },
  "language_info": {
   "codemirror_mode": {
    "name": "ipython",
    "version": 3
   },
   "file_extension": ".py",
   "mimetype": "text/x-python",
   "name": "python",
   "nbconvert_exporter": "python",
   "pygments_lexer": "ipython3",
   "version": "3.9.12"
  }
 },
 "nbformat": 4,
 "nbformat_minor": 5
}
