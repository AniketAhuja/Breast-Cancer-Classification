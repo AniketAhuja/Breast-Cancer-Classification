{
 "cells": [
  {
   "cell_type": "code",
   "execution_count": 531,
   "id": "4b66891d",
   "metadata": {
    "scrolled": true
   },
   "outputs": [],
   "source": [
    "import pandas as pd\n",
    "import numpy as np\n",
    "import pandas as pd\n",
    "import numpy as np\n",
    "import matplotlib.pyplot as plt\n",
    "from sklearn.model_selection import train_test_split, GridSearchCV\n",
    "from sklearn.model_selection import cross_val_score,cross_val_predict\n",
    "from sklearn.metrics import accuracy_score, recall_score, confusion_matrix\n",
    "from sklearn.ensemble import AdaBoostClassifier\n",
    "from sklearn.tree import DecisionTreeClassifier\n",
    "\n",
    "\n",
    "import warnings\n",
    "warnings.filterwarnings(\"ignore\")"
   ]
  },
  {
   "cell_type": "code",
   "execution_count": 532,
   "id": "81f2ee43",
   "metadata": {},
   "outputs": [],
   "source": [
    "data = pd.read_excel(\"df.xlsx\")\n",
    "binary = {'M':1,'B':0}\n",
    "data['diagnosis'] = data['diagnosis'].map(binary)"
   ]
  },
  {
   "cell_type": "code",
   "execution_count": 533,
   "id": "84852aa2",
   "metadata": {},
   "outputs": [],
   "source": [
    "y = data['diagnosis']\n",
    "X = data.drop([\"diagnosis\", \"id\"], axis = 1)\n",
    "\n",
    "X_scaled = (X - np.min(X)) / (np.max(X) - np.min(X))\n",
    "X = X_scaled\n",
    "\n",
    "X_train, X_test, y_train, y_test = train_test_split(X, y, random_state=2, test_size=0.2, stratify = y)"
   ]
  },
  {
   "cell_type": "code",
   "execution_count": 536,
   "id": "cdb056b1",
   "metadata": {
    "scrolled": true
   },
   "outputs": [
    {
     "name": "stdout",
     "output_type": "stream",
     "text": [
      "Fitting 5 folds for each of 81 candidates, totalling 405 fits\n"
     ]
    }
   ],
   "source": [
    "# Coarse\n",
    "ab =  AdaBoostClassifier(DecisionTreeClassifier(random_state = 10),random_state = 10)\n",
    "hp_grid_ab ={'n_estimators':[10,100,1000], \n",
    "             'base_estimator__max_depth': [5,15,25], \n",
    "             'learning_rate': [0.01, 1, 5], \n",
    "             'base_estimator__max_features': [3,12,21]}\n",
    "clf_ab = GridSearchCV(ab, hp_grid_ab, cv = 5, scoring = 'recall', verbose = 1, n_jobs = -1);\n",
    "clf_ab.fit(X_train, y_train);"
   ]
  },
  {
   "cell_type": "code",
   "execution_count": 537,
   "id": "050227c0",
   "metadata": {
    "scrolled": true
   },
   "outputs": [
    {
     "data": {
      "text/plain": [
       "{'base_estimator__max_depth': 5,\n",
       " 'base_estimator__max_features': 3,\n",
       " 'learning_rate': 1,\n",
       " 'n_estimators': 1000}"
      ]
     },
     "execution_count": 537,
     "metadata": {},
     "output_type": "execute_result"
    }
   ],
   "source": [
    "clf_ab.best_params_"
   ]
  },
  {
   "cell_type": "code",
   "execution_count": 538,
   "id": "87f8777f",
   "metadata": {},
   "outputs": [
    {
     "name": "stdout",
     "output_type": "stream",
     "text": [
      "0.9047619047619048\n",
      "Adaptive Boosting Tuned Confusion Matrix:\n",
      " [[70  2]\n",
      " [ 4 38]]\n"
     ]
    }
   ],
   "source": [
    "best_hp_ab = clf_ab.best_params_\n",
    "\n",
    "ab_final = AdaBoostClassifier(DecisionTreeClassifier(random_state = 10, max_depth = best_hp_ab[\"base_estimator__max_depth\"], max_leaf_nodes = best_hp_ab[\"base_estimator__max_features\"]),random_state = 10, n_estimators = best_hp_ab[\"n_estimators\"], learning_rate = best_hp_ab['learning_rate'])\n",
    "\n",
    "ab_final.fit(X_train, y_train)\n",
    "\n",
    "y_pred_ab = ab_final.predict(X_test)\n",
    "\n",
    "print(recall_score(y_test, y_pred_ab))\n",
    "print('Adaptive Boosting Tuned Confusion Matrix:\\n',confusion_matrix(y_test, y_pred_ab))"
   ]
  },
  {
   "cell_type": "code",
   "execution_count": 553,
   "id": "f2e7cf41",
   "metadata": {},
   "outputs": [
    {
     "name": "stdout",
     "output_type": "stream",
     "text": [
      "Fitting 5 folds for each of 600 candidates, totalling 3000 fits\n"
     ]
    }
   ],
   "source": [
    "# Fine\n",
    "ab =  AdaBoostClassifier(DecisionTreeClassifier(random_state = 10),random_state = 10)\n",
    "hp_grid_ab ={'n_estimators':np.arange(500,1500,100),\n",
    "             'base_estimator__max_depth': [3,4,5,6], \n",
    "             'learning_rate': [0.5,1, 1.5], \n",
    "             'base_estimator__max_features': [2,3,4,5,6]}\n",
    "clf_ab = GridSearchCV(ab, hp_grid_ab, cv = 5, scoring = 'recall', verbose = 1, n_jobs = -1);\n",
    "clf_ab.fit(X_train, y_train);"
   ]
  },
  {
   "cell_type": "code",
   "execution_count": 565,
   "id": "cf230f24",
   "metadata": {},
   "outputs": [
    {
     "data": {
      "text/plain": [
       "{'base_estimator__max_depth': 3,\n",
       " 'base_estimator__max_features': 4,\n",
       " 'learning_rate': 1,\n",
       " 'n_estimators': 500}"
      ]
     },
     "execution_count": 565,
     "metadata": {},
     "output_type": "execute_result"
    }
   ],
   "source": [
    "clf_ab.best_params_"
   ]
  },
  {
   "cell_type": "code",
   "execution_count": 560,
   "id": "a747fee2",
   "metadata": {
    "scrolled": true
   },
   "outputs": [
    {
     "name": "stdout",
     "output_type": "stream",
     "text": [
      "0.9761904761904762\n",
      "Adaptive Boosting Tuned Confusion Matrix:\n",
      " [[70  2]\n",
      " [ 1 41]]\n"
     ]
    }
   ],
   "source": [
    "best_hp_ab = clf_ab.best_params_\n",
    "\n",
    "ab_final = AdaBoostClassifier(DecisionTreeClassifier(random_state = 10, max_depth = best_hp_ab[\"base_estimator__max_depth\"], max_leaf_nodes = best_hp_ab[\"base_estimator__max_features\"]),random_state = 10, n_estimators = best_hp_ab[\"n_estimators\"], learning_rate = best_hp_ab['learning_rate'])\n",
    "\n",
    "ab_final.fit(X_train, y_train)\n",
    "\n",
    "y_pred_ab = ab_final.predict(X_test)\n",
    "\n",
    "print(recall_score(y_test, y_pred_ab))\n",
    "print('Adaptive Boosting Tuned Confusion Matrix:\\n',confusion_matrix(y_test, y_pred_ab))"
   ]
  },
  {
   "cell_type": "code",
   "execution_count": 566,
   "id": "03b4644d",
   "metadata": {},
   "outputs": [],
   "source": [
    "best_model = clf_ab.best_estimator_\n",
    "importances = []\n",
    "\n",
    "for feature, importance in zip(X_train.columns, best_model.feature_importances_):\n",
    "    importances.append(importance)"
   ]
  },
  {
   "cell_type": "code",
   "execution_count": 567,
   "id": "7c608da5",
   "metadata": {},
   "outputs": [
    {
     "data": {
      "text/html": [
       "<div>\n",
       "<style scoped>\n",
       "    .dataframe tbody tr th:only-of-type {\n",
       "        vertical-align: middle;\n",
       "    }\n",
       "\n",
       "    .dataframe tbody tr th {\n",
       "        vertical-align: top;\n",
       "    }\n",
       "\n",
       "    .dataframe thead th {\n",
       "        text-align: right;\n",
       "    }\n",
       "</style>\n",
       "<table border=\"1\" class=\"dataframe\">\n",
       "  <thead>\n",
       "    <tr style=\"text-align: right;\">\n",
       "      <th></th>\n",
       "      <th>Predictors</th>\n",
       "      <th>Importances</th>\n",
       "    </tr>\n",
       "  </thead>\n",
       "  <tbody>\n",
       "    <tr>\n",
       "      <th>21</th>\n",
       "      <td>texture_worst</td>\n",
       "      <td>0.069369</td>\n",
       "    </tr>\n",
       "    <tr>\n",
       "      <th>1</th>\n",
       "      <td>Texture_mean</td>\n",
       "      <td>0.049403</td>\n",
       "    </tr>\n",
       "    <tr>\n",
       "      <th>23</th>\n",
       "      <td>area_worst</td>\n",
       "      <td>0.045258</td>\n",
       "    </tr>\n",
       "    <tr>\n",
       "      <th>27</th>\n",
       "      <td>concave points_worst</td>\n",
       "      <td>0.041571</td>\n",
       "    </tr>\n",
       "    <tr>\n",
       "      <th>0</th>\n",
       "      <td>Radius_mean</td>\n",
       "      <td>0.038130</td>\n",
       "    </tr>\n",
       "    <tr>\n",
       "      <th>13</th>\n",
       "      <td>area_se</td>\n",
       "      <td>0.037094</td>\n",
       "    </tr>\n",
       "    <tr>\n",
       "      <th>7</th>\n",
       "      <td>concave points_mean</td>\n",
       "      <td>0.036402</td>\n",
       "    </tr>\n",
       "    <tr>\n",
       "      <th>24</th>\n",
       "      <td>smoothness_worst</td>\n",
       "      <td>0.035781</td>\n",
       "    </tr>\n",
       "    <tr>\n",
       "      <th>22</th>\n",
       "      <td>perimeter_worst</td>\n",
       "      <td>0.035573</td>\n",
       "    </tr>\n",
       "    <tr>\n",
       "      <th>5</th>\n",
       "      <td>compactness_mean</td>\n",
       "      <td>0.034814</td>\n",
       "    </tr>\n",
       "    <tr>\n",
       "      <th>17</th>\n",
       "      <td>concave points_se</td>\n",
       "      <td>0.033717</td>\n",
       "    </tr>\n",
       "    <tr>\n",
       "      <th>14</th>\n",
       "      <td>smoothness_se</td>\n",
       "      <td>0.033532</td>\n",
       "    </tr>\n",
       "    <tr>\n",
       "      <th>26</th>\n",
       "      <td>concavity_worst</td>\n",
       "      <td>0.032975</td>\n",
       "    </tr>\n",
       "    <tr>\n",
       "      <th>15</th>\n",
       "      <td>compactness_se</td>\n",
       "      <td>0.032470</td>\n",
       "    </tr>\n",
       "    <tr>\n",
       "      <th>20</th>\n",
       "      <td>radius_worst</td>\n",
       "      <td>0.032398</td>\n",
       "    </tr>\n",
       "    <tr>\n",
       "      <th>29</th>\n",
       "      <td>fractal_dimension_worst</td>\n",
       "      <td>0.032396</td>\n",
       "    </tr>\n",
       "    <tr>\n",
       "      <th>12</th>\n",
       "      <td>perimeter_se</td>\n",
       "      <td>0.032329</td>\n",
       "    </tr>\n",
       "    <tr>\n",
       "      <th>18</th>\n",
       "      <td>symmetry_se</td>\n",
       "      <td>0.031891</td>\n",
       "    </tr>\n",
       "    <tr>\n",
       "      <th>11</th>\n",
       "      <td>texture_se</td>\n",
       "      <td>0.031425</td>\n",
       "    </tr>\n",
       "    <tr>\n",
       "      <th>28</th>\n",
       "      <td>symmetry_worst</td>\n",
       "      <td>0.031226</td>\n",
       "    </tr>\n",
       "    <tr>\n",
       "      <th>8</th>\n",
       "      <td>symmetry_mean</td>\n",
       "      <td>0.030594</td>\n",
       "    </tr>\n",
       "    <tr>\n",
       "      <th>4</th>\n",
       "      <td>smoothness_mean</td>\n",
       "      <td>0.030317</td>\n",
       "    </tr>\n",
       "    <tr>\n",
       "      <th>16</th>\n",
       "      <td>concavity_se</td>\n",
       "      <td>0.029721</td>\n",
       "    </tr>\n",
       "    <tr>\n",
       "      <th>9</th>\n",
       "      <td>fractal_dimension_mean</td>\n",
       "      <td>0.026246</td>\n",
       "    </tr>\n",
       "    <tr>\n",
       "      <th>19</th>\n",
       "      <td>fractal_dimension_se</td>\n",
       "      <td>0.026095</td>\n",
       "    </tr>\n",
       "    <tr>\n",
       "      <th>6</th>\n",
       "      <td>concavity_mean</td>\n",
       "      <td>0.025894</td>\n",
       "    </tr>\n",
       "    <tr>\n",
       "      <th>25</th>\n",
       "      <td>compactness_worst</td>\n",
       "      <td>0.022492</td>\n",
       "    </tr>\n",
       "    <tr>\n",
       "      <th>10</th>\n",
       "      <td>radius_se</td>\n",
       "      <td>0.021338</td>\n",
       "    </tr>\n",
       "    <tr>\n",
       "      <th>3</th>\n",
       "      <td>area_mean</td>\n",
       "      <td>0.021107</td>\n",
       "    </tr>\n",
       "    <tr>\n",
       "      <th>2</th>\n",
       "      <td>perimeter_mean</td>\n",
       "      <td>0.018442</td>\n",
       "    </tr>\n",
       "  </tbody>\n",
       "</table>\n",
       "</div>"
      ],
      "text/plain": [
       "                 Predictors  Importances\n",
       "21            texture_worst     0.069369\n",
       "1              Texture_mean     0.049403\n",
       "23               area_worst     0.045258\n",
       "27     concave points_worst     0.041571\n",
       "0               Radius_mean     0.038130\n",
       "13                  area_se     0.037094\n",
       "7       concave points_mean     0.036402\n",
       "24         smoothness_worst     0.035781\n",
       "22          perimeter_worst     0.035573\n",
       "5          compactness_mean     0.034814\n",
       "17        concave points_se     0.033717\n",
       "14            smoothness_se     0.033532\n",
       "26          concavity_worst     0.032975\n",
       "15           compactness_se     0.032470\n",
       "20             radius_worst     0.032398\n",
       "29  fractal_dimension_worst     0.032396\n",
       "12             perimeter_se     0.032329\n",
       "18              symmetry_se     0.031891\n",
       "11               texture_se     0.031425\n",
       "28           symmetry_worst     0.031226\n",
       "8             symmetry_mean     0.030594\n",
       "4           smoothness_mean     0.030317\n",
       "16             concavity_se     0.029721\n",
       "9    fractal_dimension_mean     0.026246\n",
       "19     fractal_dimension_se     0.026095\n",
       "6            concavity_mean     0.025894\n",
       "25        compactness_worst     0.022492\n",
       "10                radius_se     0.021338\n",
       "3                 area_mean     0.021107\n",
       "2            perimeter_mean     0.018442"
      ]
     },
     "execution_count": 567,
     "metadata": {},
     "output_type": "execute_result"
    }
   ],
   "source": [
    "data = {\"Predictors\": X_train.columns, \"Importances\": importances}\n",
    "pd.DataFrame(data).sort_values(by = 'Importances', ascending=False)"
   ]
  },
  {
   "cell_type": "code",
   "execution_count": 535,
   "id": "78b94e01",
   "metadata": {},
   "outputs": [
    {
     "name": "stdout",
     "output_type": "stream",
     "text": [
      "0.9285714285714286\n",
      "Adaptive Boosting Untuned Confusion Matrix:\n",
      " [[68  4]\n",
      " [ 3 39]]\n"
     ]
    }
   ],
   "source": [
    "# base model\n",
    "ab =  AdaBoostClassifier(DecisionTreeClassifier(random_state = 10),random_state = 10)\n",
    "ab.fit(X_train, y_train);\n",
    "\n",
    "y_pred_ab = ab.predict(X_test)\n",
    "\n",
    "print(recall_score(y_test, y_pred_ab))\n",
    "print('Adaptive Boosting Untuned Confusion Matrix:\\n',confusion_matrix(y_test, y_pred_ab))"
   ]
  },
  {
   "cell_type": "code",
   "execution_count": 534,
   "id": "5d898eb3",
   "metadata": {},
   "outputs": [
    {
     "name": "stdout",
     "output_type": "stream",
     "text": [
      "0.8809523809523809\n",
      "Logistic Regression (Base Model) Confusion Matrix:\n",
      " [[72  0]\n",
      " [ 5 37]]\n"
     ]
    }
   ],
   "source": [
    "from sklearn.linear_model import LogisticRegression\n",
    "\n",
    "logreg = LogisticRegression(random_state = 10)\n",
    "\n",
    "logreg.fit(X_train, y_train)\n",
    "\n",
    "y_pred = logreg.predict(X_test)\n",
    "\n",
    "print(recall_score(y_test, y_pred))\n",
    "print('Logistic Regression (Base Model) Confusion Matrix:\\n',confusion_matrix(y_test, y_pred))"
   ]
  }
 ],
 "metadata": {
  "kernelspec": {
   "display_name": "Python 3",
   "language": "python",
   "name": "python3"
  },
  "language_info": {
   "codemirror_mode": {
    "name": "ipython",
    "version": 3
   },
   "file_extension": ".py",
   "mimetype": "text/x-python",
   "name": "python",
   "nbconvert_exporter": "python",
   "pygments_lexer": "ipython3",
   "version": "3.8.8"
  }
 },
 "nbformat": 4,
 "nbformat_minor": 5
}
